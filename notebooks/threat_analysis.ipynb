{
 "cells": [
  {
   "cell_type": "markdown",
   "id": "7cf7f42e",
   "metadata": {},
   "source": [
    "# Imports and Setup\n",
    "\n",
    "## Core libraries"
   ]
  },
  {
   "cell_type": "code",
   "execution_count": null,
   "id": "076b8aa9",
   "metadata": {
    "vscode": {
     "languageId": "plaintext"
    }
   },
   "outputs": [],
   "source": [
    "import pandas as pd\n",
    "import numpy as np\n",
    "import matplotlib.pyplot as plt\n",
    "import seaborn as sns"
   ]
  },
  {
   "cell_type": "markdown",
   "id": "bbc0ca54",
   "metadata": {},
   "source": [
    "## Machine learning"
   ]
  },
  {
   "cell_type": "code",
   "execution_count": null,
   "id": "f0872fa8",
   "metadata": {
    "vscode": {
     "languageId": "plaintext"
    }
   },
   "outputs": [],
   "source": [
    "from sklearn.model_selection import train_test_split\n",
    "from sklearn.ensemble import RandomForestClassifier\n",
    "from sklearn.metrics import classification_report, confusion_matrix"
   ]
  },
  {
   "cell_type": "markdown",
   "id": "54dd5fe3",
   "metadata": {},
   "source": [
    "## Optional: for anomaly detection"
   ]
  },
  {
   "cell_type": "code",
   "execution_count": null,
   "id": "1d7e25b2",
   "metadata": {
    "vscode": {
     "languageId": "plaintext"
    }
   },
   "outputs": [],
   "source": [
    "from sklearn.ensemble import IsolationForest"
   ]
  },
  {
   "cell_type": "markdown",
   "id": "ac45646c",
   "metadata": {},
   "source": [
    "## Display settings"
   ]
  },
  {
   "cell_type": "code",
   "execution_count": null,
   "id": "59565984",
   "metadata": {
    "vscode": {
     "languageId": "plaintext"
    }
   },
   "outputs": [],
   "source": [
    "sns.set(style='whitegrid')"
   ]
  },
  {
   "cell_type": "markdown",
   "id": "555ab54c",
   "metadata": {},
   "source": [
    "# Load and Explore Data\n",
    "## Load dataset"
   ]
  },
  {
   "cell_type": "code",
   "execution_count": null,
   "id": "8e222e9d",
   "metadata": {
    "vscode": {
     "languageId": "plaintext"
    }
   },
   "outputs": [],
   "source": [
    "df = pd.read_csv('your_threat_data.csv')  # Replace with actual path"
   ]
  },
  {
   "cell_type": "markdown",
   "id": "6711c4d8",
   "metadata": {},
   "source": [
    "## Quick overview"
   ]
  },
  {
   "cell_type": "code",
   "execution_count": null,
   "id": "705781cd",
   "metadata": {
    "vscode": {
     "languageId": "plaintext"
    }
   },
   "outputs": [],
   "source": [
    "print(df.shape)\n",
    "print(df.columns)\n",
    "df.head()"
   ]
  },
  {
   "cell_type": "markdown",
   "id": "b8fa50d5",
   "metadata": {},
   "source": [
    "# Data Preprocessing\n",
    "## Handle missing values"
   ]
  },
  {
   "cell_type": "code",
   "execution_count": null,
   "id": "3b5722a6",
   "metadata": {
    "vscode": {
     "languageId": "plaintext"
    }
   },
   "outputs": [],
   "source": [
    "df.fillna(method='ffill', inplace=True)"
   ]
  },
  {
   "cell_type": "markdown",
   "id": "85c562a0",
   "metadata": {},
   "source": [
    "## Encode categorical variables"
   ]
  },
  {
   "cell_type": "code",
   "execution_count": null,
   "id": "c401a7a2",
   "metadata": {
    "vscode": {
     "languageId": "plaintext"
    }
   },
   "outputs": [],
   "source": [
    "df_encoded = pd.get_dummies(df, drop_first=True)"
   ]
  },
  {
   "cell_type": "markdown",
   "id": "1eab59c3",
   "metadata": {},
   "source": [
    "## Feature-target split"
   ]
  },
  {
   "cell_type": "code",
   "execution_count": null,
   "id": "c41bbf11",
   "metadata": {
    "vscode": {
     "languageId": "plaintext"
    }
   },
   "outputs": [],
   "source": [
    "X = df_encoded.drop('threat_label', axis=1)  # Replace with actual label column\n",
    "y = df_encoded['threat_label']"
   ]
  },
  {
   "cell_type": "markdown",
   "id": "86072de5",
   "metadata": {},
   "source": [
    "# Model Training\n",
    "## Train-test split"
   ]
  },
  {
   "cell_type": "code",
   "execution_count": null,
   "id": "be4e9e21",
   "metadata": {
    "vscode": {
     "languageId": "plaintext"
    }
   },
   "outputs": [],
   "source": [
    "X_train, X_test, y_train, y_test = train_test_split(X, y, test_size=0.3, random_state=42)"
   ]
  },
  {
   "cell_type": "markdown",
   "id": "67ce0943",
   "metadata": {},
   "source": [
    "## Model"
   ]
  },
  {
   "cell_type": "code",
   "execution_count": null,
   "id": "f3c802f2",
   "metadata": {
    "vscode": {
     "languageId": "plaintext"
    }
   },
   "outputs": [],
   "source": [
    "model = RandomForestClassifier(n_estimators=100, random_state=42)\n",
    "model.fit(X_train, y_train)"
   ]
  },
  {
   "cell_type": "markdown",
   "id": "189ac47b",
   "metadata": {},
   "source": [
    "# Evaluation\n",
    "## Predictions"
   ]
  },
  {
   "cell_type": "code",
   "execution_count": null,
   "id": "5ef3b8b9",
   "metadata": {
    "vscode": {
     "languageId": "plaintext"
    }
   },
   "outputs": [],
   "source": [
    "y_pred = model.predict(X_test)"
   ]
  },
  {
   "cell_type": "markdown",
   "id": "c7b26b21",
   "metadata": {},
   "source": [
    "## Metrics"
   ]
  },
  {
   "cell_type": "code",
   "execution_count": null,
   "id": "4ff746e2",
   "metadata": {
    "vscode": {
     "languageId": "plaintext"
    }
   },
   "outputs": [],
   "source": [
    "print(confusion_matrix(y_test, y_pred))\n",
    "print(classification_report(y_test, y_pred))"
   ]
  },
  {
   "cell_type": "markdown",
   "id": "f03a0b54",
   "metadata": {},
   "source": [
    "# Anomaly Detection"
   ]
  },
  {
   "cell_type": "code",
   "execution_count": null,
   "id": "2147fe78",
   "metadata": {
    "vscode": {
     "languageId": "plaintext"
    }
   },
   "outputs": [],
   "source": [
    "iso_forest = IsolationForest(contamination=0.01, random_state=42)\n",
    "anomalies = iso_forest.fit_predict(X)"
   ]
  },
  {
   "cell_type": "markdown",
   "id": "4226baa5",
   "metadata": {},
   "source": [
    "## Add anomaly flag to dataframe\n"
   ]
  },
  {
   "cell_type": "code",
   "execution_count": null,
   "id": "a68099b5",
   "metadata": {
    "vscode": {
     "languageId": "plaintext"
    }
   },
   "outputs": [],
   "source": [
    "df['anomaly_flag'] = anomalies\n",
    "df[df['anomaly_flag'] == -1].head()"
   ]
  },
  {
   "cell_type": "markdown",
   "id": "4cef44e0",
   "metadata": {},
   "source": [
    "# Visualization\n",
    "## Threat distribution"
   ]
  },
  {
   "cell_type": "markdown",
   "id": "a0f4a778",
   "metadata": {},
   "source": [
    "sns.countplot(x='threat_label', data=df)\n",
    "plt.title('Threat Type Distribution')\n",
    "plt.xticks(rotation=45)\n",
    "plt.show()"
   ]
  }
 ],
 "metadata": {
  "language_info": {
   "name": "python"
  }
 },
 "nbformat": 4,
 "nbformat_minor": 5
}
